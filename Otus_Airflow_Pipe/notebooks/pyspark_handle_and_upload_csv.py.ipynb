{
 "cells": [
  {
   "cell_type": "markdown",
   "id": "5302cf0d",
   "metadata": {},
   "source": [
    "# Создаем сессию"
   ]
  },
  {
   "cell_type": "code",
   "execution_count": null,
   "id": "3ab2e3e0",
   "metadata": {},
   "outputs": [],
   "source": [
    "from pyspark.sql import SparkSession\n",
    "from pyspark.sql import functions as f\n",
    "\n",
    "spark = SparkSession\\\n",
    "    .builder\\\n",
    "    .appName(\"Spark handle file and upload to hdfs\")\\\n",
    "    .getOrCreate()"
   ]
  },
  {
   "cell_type": "markdown",
   "id": "1b0b608a",
   "metadata": {},
   "source": [
    "# Открываем файл "
   ]
  },
  {
   "cell_type": "code",
   "execution_count": null,
   "id": "f3a3c06f",
   "metadata": {},
   "outputs": [],
   "source": [
    "raw = spark\\\n",
    "    .read\\\n",
    "    .option(\"header\", \"true\")\\\n",
    "    .option(\"inferSchema\", \"true\")\\\n",
    "    .csv(\"otus_test/otus_train.csv\")"
   ]
  },
  {
   "cell_type": "markdown",
   "id": "b12bee4d",
   "metadata": {},
   "source": [
    "# Убираем первую и последние две колонки"
   ]
  },
  {
   "cell_type": "code",
   "execution_count": null,
   "id": "73cf0625",
   "metadata": {},
   "outputs": [],
   "source": [
    "columns = raw.columns\n",
    "columnsLen = len(columns)\n",
    "colsToDrop = columns[0].split() + columns[columnsLen-2:columnsLen]\n",
    "df = raw.drop(*colsToDrop)\n",
    "\n",
    "df.show(5, False)"
   ]
  },
  {
   "cell_type": "markdown",
   "id": "1a52c928",
   "metadata": {},
   "source": [
    "# Перемножить Total_Trans_Ct на Total_Ct_Chng_Q4_Q1"
   ]
  },
  {
   "cell_type": "code",
   "execution_count": null,
   "id": "746c9a97",
   "metadata": {},
   "outputs": [],
   "source": [
    "df.withColumn('features_1', col('Total_Ct_Chng_Q4_Q1')*col('Total_Trans_Ct'))"
   ]
  },
  {
   "cell_type": "markdown",
   "id": "9af97ec1",
   "metadata": {},
   "source": [
    "# Сложить Avg_Utilization_Ratio с Customer_Age переменными"
   ]
  },
  {
   "cell_type": "code",
   "execution_count": null,
   "id": "3ac1c6bf",
   "metadata": {},
   "outputs": [],
   "source": [
    "df.withColumn('features_2', col('Total_Ct_Chng_Q4_Q1') + col('Total_Trans_Ct'))"
   ]
  },
  {
   "cell_type": "markdown",
   "id": "e0661935",
   "metadata": {},
   "source": [
    "# Посчитать признак заданный формулой"
   ]
  },
  {
   "cell_type": "markdown",
   "id": "b4752dda",
   "metadata": {},
   "source": [
    " $$F = \\frac{(Customer\\_Age - Dependent\\_count)}{(Total\\_Relationship\\_Count + Months\\_on\\_book)}$$"
   ]
  },
  {
   "cell_type": "code",
   "execution_count": null,
   "id": "df951975",
   "metadata": {},
   "outputs": [],
   "source": [
    "df.withColumn('features_3', (col('Customer_Age') - col('Dependent_count'))/(col('Total_Relationship') + col('Months_on_book')))"
   ]
  },
  {
   "cell_type": "markdown",
   "id": "c2dd34a6",
   "metadata": {},
   "source": [
    "# Отборать Id и новый признаки и загрузить в HDFS"
   ]
  },
  {
   "cell_type": "code",
   "execution_count": null,
   "id": "07516dc4",
   "metadata": {},
   "outputs": [],
   "source": [
    "df.select('features_1','features_2','features_3').write.mode(\"overwrite\").parquet('final_otus_train.csv')"
   ]
  }
 ],
 "metadata": {
  "kernelspec": {
   "display_name": "Python 3",
   "language": "python",
   "name": "python3"
  },
  "language_info": {
   "codemirror_mode": {
    "name": "ipython",
    "version": 3
   },
   "file_extension": ".py",
   "mimetype": "text/x-python",
   "name": "python",
   "nbconvert_exporter": "python",
   "pygments_lexer": "ipython3",
   "version": "3.8.10"
  }
 },
 "nbformat": 4,
 "nbformat_minor": 5
}
